{
 "cells": [
  {
   "cell_type": "code",
   "execution_count": null,
   "metadata": {},
   "outputs": [],
   "source": [
    "rgb_modality_one_tag = 'rgb_one'\n",
    "rgb_modality_one_tag = 'rgb_two'\n",
    "face_modality_tag = 'face'\n",
    "\n",
    "seq_len_tag = 'seq_lengths'\n",
    "modality_mask_tag='_mask'\n",
    "modality_seq_len_tag='_seq_len'\n",
    "\n",
    "attention_type_sum = 'sum'\n",
    "\n",
    "image_channel = 3\n",
    "\n",
    "image_width = 224\n",
    "image_height = 224\n",
    "\n",
    "tbw_train_loss = 'Loss/Train'\n",
    "tbw_valid_loss = 'Loss/Valid'\n",
    "tbw_test_loss = 'Loss/Test'\n",
    "\n",
    "tbw_train_acc = 'Accuracy/Train'\n",
    "tbw_valid_acc = 'Accuracy/Valid'\n",
    "tbw_test_acc = 'Accuracy/Test'\n",
    "\n",
    "tbw_train_f1 = 'F1/Train'\n",
    "tbw_valid_f1 = 'F1/Valid'\n",
    "tbw_test_f1 = 'F1/Test'"
   ]
  }
 ],
 "metadata": {
  "kernelspec": {
   "display_name": "Python 3",
   "language": "python",
   "name": "python3"
  },
  "language_info": {
   "codemirror_mode": {
    "name": "ipython",
    "version": 3
   },
   "file_extension": ".py",
   "mimetype": "text/x-python",
   "name": "python",
   "nbconvert_exporter": "python",
   "pygments_lexer": "ipython3",
   "version": "3.7.5"
  }
 },
 "nbformat": 4,
 "nbformat_minor": 4
}
