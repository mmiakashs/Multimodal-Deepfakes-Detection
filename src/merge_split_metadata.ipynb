{
 "cells": [
  {
   "cell_type": "code",
   "execution_count": null,
   "metadata": {},
   "outputs": [],
   "source": [
    "import torch\n",
    "from torch.utils.data import Dataset, DataLoader\n",
    "from torchvision import transforms, utils\n",
    "from torch import nn\n",
    "import torch.nn.functional as F\n",
    "\n",
    "\n",
    "import pandas as pd \n",
    "import numpy as np \n",
    "import matplotlib.pyplot as plt \n",
    "\n",
    "import sys, time\n",
    "import csv\n",
    "import string\n",
    "import os\n",
    "import shutil\n",
    "from pathlib import Path\n",
    "import re\n",
    "from sklearn.metrics import accuracy_score, confusion_matrix, f1_score\n",
    "from sklearn.model_selection import LeaveOneOut\n",
    "import statistics\n",
    "from tqdm import tqdm\n",
    "%matplotlib inline"
   ]
  },
  {
   "cell_type": "code",
   "execution_count": null,
   "metadata": {},
   "outputs": [],
   "source": [
    "print('pytorch version:',torch.__version__)"
   ]
  },
  {
   "cell_type": "code",
   "execution_count": null,
   "metadata": {},
   "outputs": [],
   "source": [
    "device = torch.device('cuda' if torch.cuda.is_available() else 'cpu')\n",
    "print('GPU Availability:', device)"
   ]
  },
  {
   "cell_type": "code",
   "execution_count": null,
   "metadata": {},
   "outputs": [],
   "source": [
    "df = pd.read_json('../../dfdc_train_part_0/metadata.json', orient='index')\n",
    "print('Shape', df.shape)\n",
    "df.head()"
   ]
  },
  {
   "cell_type": "code",
   "execution_count": null,
   "metadata": {},
   "outputs": [],
   "source": [
    "data_dir_base_path = Path('../../')\n",
    "split_dir_name_pattern = 'dfdc_train_part'\n",
    "metadata_filename = 'metadata.json'\n",
    "\n",
    "metadatas = []\n",
    "total_metadata_file = 0\n",
    "for split_dir_path in data_dir_base_path.iterdir():\n",
    "    if(split_dir_name_pattern in str(split_dir_path)):\n",
    "        print(split_dir_path)\n",
    "        df = pd.read_json(f'{str(split_dir_path)}/{metadata_filename}', orient='index')\n",
    "        metadatas.append(df)\n",
    "        total_metadata_file = total_metadata_file + 1\n",
    "        \n",
    "all_metadata_df = pd.concat(metadatas)\n",
    "print('Total Metadata File Parse:', total_metadata_file)\n",
    "print('all_metadata_df shape', all_metadata_df.shape)\n",
    "all_metadata_df.head()"
   ]
  },
  {
   "cell_type": "code",
   "execution_count": 17,
   "metadata": {},
   "outputs": [],
   "source": [
    "data_dir_base_path = Path('../../dfdc_train_data')\n",
    "metadata_filename = 'metadata.csv'\n",
    "all_metadata_df.index.name = 'filename'\n",
    "all_metadata_df.to_csv(f'{str(data_dir_base_path)}/{metadata_filename}')\n",
    "print(f'Merge metadata file save at {str(data_dir_base_path)}/{metadata_filename}')"
   ]
  }
 ],
 "metadata": {
  "kernelspec": {
   "display_name": "Python [conda env:kaggle]",
   "language": "python",
   "name": "conda-env-kaggle-py"
  },
  "language_info": {
   "codemirror_mode": {
    "name": "ipython",
    "version": 3
   },
   "file_extension": ".py",
   "mimetype": "text/x-python",
   "name": "python",
   "nbconvert_exporter": "python",
   "pygments_lexer": "ipython3",
   "version": "3.7.5"
  }
 },
 "nbformat": 4,
 "nbformat_minor": 2
}
