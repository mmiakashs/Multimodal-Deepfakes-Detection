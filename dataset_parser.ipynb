{
 "cells": [
  {
   "cell_type": "code",
   "execution_count": 1,
   "metadata": {},
   "outputs": [],
   "source": [
    "import os\n",
    "\n",
    "import numpy as np\n",
    "import pandas as pd"
   ]
  },
  {
   "cell_type": "code",
   "execution_count": 2,
   "metadata": {
    "scrolled": true
   },
   "outputs": [
    {
     "data": {
      "text/html": [
       "<div>\n",
       "<style scoped>\n",
       "    .dataframe tbody tr th:only-of-type {\n",
       "        vertical-align: middle;\n",
       "    }\n",
       "\n",
       "    .dataframe tbody tr th {\n",
       "        vertical-align: top;\n",
       "    }\n",
       "\n",
       "    .dataframe thead th {\n",
       "        text-align: right;\n",
       "    }\n",
       "</style>\n",
       "<table border=\"1\" class=\"dataframe\">\n",
       "  <thead>\n",
       "    <tr style=\"text-align: right;\">\n",
       "      <th></th>\n",
       "      <th>filename</th>\n",
       "      <th>label</th>\n",
       "      <th>original</th>\n",
       "      <th>split</th>\n",
       "    </tr>\n",
       "  </thead>\n",
       "  <tbody>\n",
       "    <tr>\n",
       "      <th>0</th>\n",
       "      <td>aafezqchru.mp4</td>\n",
       "      <td>FAKE</td>\n",
       "      <td>pczqsicacb.mp4</td>\n",
       "      <td>train</td>\n",
       "    </tr>\n",
       "    <tr>\n",
       "      <th>1</th>\n",
       "      <td>aajhbrxhzm.mp4</td>\n",
       "      <td>FAKE</td>\n",
       "      <td>gjasrapdle.mp4</td>\n",
       "      <td>train</td>\n",
       "    </tr>\n",
       "    <tr>\n",
       "      <th>2</th>\n",
       "      <td>aaknzywids.mp4</td>\n",
       "      <td>FAKE</td>\n",
       "      <td>ftxkyhpuyp.mp4</td>\n",
       "      <td>train</td>\n",
       "    </tr>\n",
       "    <tr>\n",
       "      <th>3</th>\n",
       "      <td>aarsmohwrt.mp4</td>\n",
       "      <td>FAKE</td>\n",
       "      <td>mrgmchwvfk.mp4</td>\n",
       "      <td>train</td>\n",
       "    </tr>\n",
       "    <tr>\n",
       "      <th>4</th>\n",
       "      <td>ablzpwqhcc.mp4</td>\n",
       "      <td>FAKE</td>\n",
       "      <td>eifretwgfd.mp4</td>\n",
       "      <td>train</td>\n",
       "    </tr>\n",
       "  </tbody>\n",
       "</table>\n",
       "</div>"
      ],
      "text/plain": [
       "         filename label        original  split\n",
       "0  aafezqchru.mp4  FAKE  pczqsicacb.mp4  train\n",
       "1  aajhbrxhzm.mp4  FAKE  gjasrapdle.mp4  train\n",
       "2  aaknzywids.mp4  FAKE  ftxkyhpuyp.mp4  train\n",
       "3  aarsmohwrt.mp4  FAKE  mrgmchwvfk.mp4  train\n",
       "4  ablzpwqhcc.mp4  FAKE  eifretwgfd.mp4  train"
      ]
     },
     "execution_count": 2,
     "metadata": {},
     "output_type": "execute_result"
    }
   ],
   "source": [
    "df = pd.read_csv('/data/research_data/dfdc_embed/metadata.csv')\n",
    "df.head()"
   ]
  },
  {
   "cell_type": "code",
   "execution_count": 3,
   "metadata": {},
   "outputs": [],
   "source": [
    "def is_exists(filename):\n",
    "    if(not os.path.exists(f'/data/research_data/dfdc_train_data/{filename}')):\n",
    "        return False\n",
    "    filename = filename.split('.')[0]\n",
    "    filename = f'{filename}.pt'\n",
    "    if(not os.path.exists(f'/data/research_data/dfdc_embed/{filename}')):\n",
    "        return False\n",
    "    return True"
   ]
  },
  {
   "cell_type": "code",
   "execution_count": 4,
   "metadata": {},
   "outputs": [],
   "source": [
    "data = pd.DataFrame(columns=['filename','label','split'])\n",
    "for i, row in df.iterrows():\n",
    "#     print(row)\n",
    "    if(is_exists(row['filename'])):\n",
    "        tm = {}\n",
    "        tm['filename'] = row['filename']\n",
    "        tm['label'] = row['label']\n",
    "        tm['split'] = row['split']\n",
    "#         print(tm)\n",
    "        data = data.append(tm, ignore_index=True)\n",
    "    tm = {}\n",
    "    if(row['label']=='FAKE'):\n",
    "        if(is_exists(row['original'])):\n",
    "            tm['filename'] = row['original']\n",
    "            tm['label'] = row['label']\n",
    "            tm['split'] = row['split']\n",
    "#             print(tm)\n",
    "            data = data.append(tm, ignore_index=True)\n",
    "#     if(i>3):\n",
    "#         break"
   ]
  },
  {
   "cell_type": "code",
   "execution_count": 6,
   "metadata": {},
   "outputs": [
    {
     "data": {
      "text/html": [
       "<div>\n",
       "<style scoped>\n",
       "    .dataframe tbody tr th:only-of-type {\n",
       "        vertical-align: middle;\n",
       "    }\n",
       "\n",
       "    .dataframe tbody tr th {\n",
       "        vertical-align: top;\n",
       "    }\n",
       "\n",
       "    .dataframe thead th {\n",
       "        text-align: right;\n",
       "    }\n",
       "</style>\n",
       "<table border=\"1\" class=\"dataframe\">\n",
       "  <thead>\n",
       "    <tr style=\"text-align: right;\">\n",
       "      <th></th>\n",
       "      <th>filename</th>\n",
       "      <th>label</th>\n",
       "      <th>split</th>\n",
       "    </tr>\n",
       "  </thead>\n",
       "  <tbody>\n",
       "    <tr>\n",
       "      <th>16</th>\n",
       "      <td>advzryyfkn.mp4</td>\n",
       "      <td>REAL</td>\n",
       "      <td>train</td>\n",
       "    </tr>\n",
       "    <tr>\n",
       "      <th>33</th>\n",
       "      <td>agvtpygfdc.mp4</td>\n",
       "      <td>REAL</td>\n",
       "      <td>train</td>\n",
       "    </tr>\n",
       "    <tr>\n",
       "      <th>44</th>\n",
       "      <td>almnilnfyu.mp4</td>\n",
       "      <td>REAL</td>\n",
       "      <td>train</td>\n",
       "    </tr>\n",
       "    <tr>\n",
       "      <th>53</th>\n",
       "      <td>anznojhdjf.mp4</td>\n",
       "      <td>REAL</td>\n",
       "      <td>train</td>\n",
       "    </tr>\n",
       "    <tr>\n",
       "      <th>60</th>\n",
       "      <td>aqzbhxohjk.mp4</td>\n",
       "      <td>REAL</td>\n",
       "      <td>train</td>\n",
       "    </tr>\n",
       "  </tbody>\n",
       "</table>\n",
       "</div>"
      ],
      "text/plain": [
       "          filename label  split\n",
       "16  advzryyfkn.mp4  REAL  train\n",
       "33  agvtpygfdc.mp4  REAL  train\n",
       "44  almnilnfyu.mp4  REAL  train\n",
       "53  anznojhdjf.mp4  REAL  train\n",
       "60  aqzbhxohjk.mp4  REAL  train"
      ]
     },
     "execution_count": 6,
     "metadata": {},
     "output_type": "execute_result"
    }
   ],
   "source": [
    "data[data['label']=='REAL'].head()"
   ]
  },
  {
   "cell_type": "code",
   "execution_count": 7,
   "metadata": {},
   "outputs": [],
   "source": [
    "data.to_csv('/data/research_data/dfdc_embed/mod_train.csv' ,index=False)"
   ]
  }
 ],
 "metadata": {
  "kernelspec": {
   "display_name": "Python 3",
   "language": "python",
   "name": "python3"
  },
  "language_info": {
   "codemirror_mode": {
    "name": "ipython",
    "version": 3
   },
   "file_extension": ".py",
   "mimetype": "text/x-python",
   "name": "python",
   "nbconvert_exporter": "python",
   "pygments_lexer": "ipython3",
   "version": "3.7.5"
  }
 },
 "nbformat": 4,
 "nbformat_minor": 4
}
