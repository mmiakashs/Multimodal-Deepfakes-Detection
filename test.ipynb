{
 "cells": [
  {
   "cell_type": "code",
   "execution_count": 1,
   "metadata": {},
   "outputs": [
    {
     "name": "stdout",
     "output_type": "stream",
     "text": [
      "[75721, 80184, 19864, 76699, 92991, 76434, 84004, 80917, 60767, 50074, 27701, 42141, 45080, 16638, 20424, 88702, 149, 1761, 63120, 69161, 64883, 2495, 80296, 19447, 41331, 14888, 88636, 94892, 92731, 29130, 79022, 84936, 16821, 36733, 15602, 28533, 69769, 11405, 96852, 16130, 19792, 89577, 40163, 31776, 25330, 79156, 51685, 75498, 4727, 85198, 35795, 12256, 35718, 70551, 54374, 39691, 93702, 73691, 98070, 575, 84610, 61769, 32260, 82199, 36290, 78449, 60055, 45948, 28177, 84463, 578, 30959, 64290, 14531, 17933, 33608, 49959, 66598, 99089, 34451, 34080, 63587, 4293, 69102, 86411, 99476, 53929, 87070, 65083, 30712, 49182, 57234, 15663, 19966, 91912, 91957, 81346, 55325, 29857, 71222, 52458, 88345, 82363, 65349, 59649, 44952, 39525, 13935, 93780, 89884, 81143, 95799, 89404, 55223, 73645, 66293, 65539, 28110, 41928, 86546, 82585, 38603, 91657, 62786, 84340, 39874, 78468, 31631, 14952, 39331, 48587, 83594, 41487, 39627, 87894, 26303, 67403, 98084, 95601, 5019, 5223, 15780, 45556, 12896, 34304, 93322, 5324, 52925, 62864, 8018]\n"
     ]
    }
   ],
   "source": [
    "# !/usr/bin/env python\n",
    "# coding: utf-8\n",
    "import argparse\n",
    "import statistics\n",
    "import sys\n",
    "from datetime import datetime\n",
    "\n",
    "from torch import nn\n",
    "from torch.utils.data.sampler import SubsetRandomSampler\n",
    "from torch.utils.tensorboard import SummaryWriter\n",
    "\n",
    "from src.dataloader.deep_fake_dataset import *\n",
    "from src.network.DeepFakeSimModel import DeepFakeSimModel\n",
    "from src.utils import config\n",
    "from src.utils.log import *\n",
    "from src.utils.sim_model_training import train_model\n",
    "from torchvision.transforms import transforms\n",
    "from torch.utils.data import Dataset\n",
    "from torch.utils.data.dataloader import DataLoader\n",
    "\n",
    "validation_split = .03\n",
    "shuffle_dataset = True\n",
    "random_seed= 42\n",
    "\n",
    "# Creating data indices for training and validation splits:\n",
    "dataset_size = 100000\n",
    "indices = list(range(dataset_size))\n",
    "split = int(np.floor(validation_split * dataset_size))\n",
    "if shuffle_dataset :\n",
    "    np.random.seed(random_seed)\n",
    "    np.random.shuffle(indices)\n",
    "train_indices, val_indices = indices[split:], indices[:split]\n",
    "val_indices = val_indices[:150]\n",
    "train_indices = train_indices[:1000]\n",
    "\n",
    "print(val_indices)"
   ]
  }
 ],
 "metadata": {
  "kernelspec": {
   "display_name": "Python 3",
   "language": "python",
   "name": "python3"
  },
  "language_info": {
   "codemirror_mode": {
    "name": "ipython",
    "version": 3
   },
   "file_extension": ".py",
   "mimetype": "text/x-python",
   "name": "python",
   "nbconvert_exporter": "python",
   "pygments_lexer": "ipython3",
   "version": "3.7.5"
  }
 },
 "nbformat": 4,
 "nbformat_minor": 4
}
